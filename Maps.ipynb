{
 "cells": [
  {
   "cell_type": "code",
   "execution_count": 2,
   "metadata": {},
   "outputs": [],
   "source": [
    "import pandas as pd\n",
    "import geopandas as gpd\n",
    "import folium\n",
    "from folium import Choropleth, Circle, Marker\n",
    "from folium.plugins import HeatMap, MarkerCluster"
   ]
  },
  {
   "cell_type": "code",
   "execution_count": 3,
   "metadata": {},
   "outputs": [
    {
     "ename": "NameError",
     "evalue": "name 'df_st' is not defined",
     "output_type": "error",
     "traceback": [
      "\u001b[0;31m---------------------------------------------------------------------------\u001b[0m",
      "\u001b[0;31mNameError\u001b[0m                                 Traceback (most recent call last)",
      "\u001b[0;32m<ipython-input-3-d5f88445be7a>\u001b[0m in \u001b[0;36m<module>\u001b[0;34m\u001b[0m\n\u001b[0;32m----> 1\u001b[0;31m \u001b[0mmapa_st\u001b[0m \u001b[0;34m=\u001b[0m \u001b[0mfolium\u001b[0m\u001b[0;34m.\u001b[0m\u001b[0mMap\u001b[0m\u001b[0;34m(\u001b[0m\u001b[0mlocation\u001b[0m\u001b[0;34m=\u001b[0m\u001b[0;34m[\u001b[0m\u001b[0mdf_st\u001b[0m\u001b[0;34m[\u001b[0m\u001b[0;34m'Latitude'\u001b[0m\u001b[0;34m]\u001b[0m\u001b[0;34m[\u001b[0m\u001b[0;36m0\u001b[0m\u001b[0;34m]\u001b[0m\u001b[0;34m,\u001b[0m \u001b[0mdf_st\u001b[0m\u001b[0;34m[\u001b[0m\u001b[0;34m'Longitude'\u001b[0m\u001b[0;34m]\u001b[0m\u001b[0;34m[\u001b[0m\u001b[0;36m0\u001b[0m\u001b[0;34m]\u001b[0m\u001b[0;34m]\u001b[0m\u001b[0;34m,\u001b[0m\u001b[0mtiles\u001b[0m\u001b[0;34m=\u001b[0m\u001b[0;34m'cartodbpositron'\u001b[0m\u001b[0;34m,\u001b[0m \u001b[0mzoom_start\u001b[0m\u001b[0;34m=\u001b[0m\u001b[0;36m15\u001b[0m\u001b[0;34m)\u001b[0m\u001b[0;34m\u001b[0m\u001b[0;34m\u001b[0m\u001b[0m\n\u001b[0m\u001b[1;32m      2\u001b[0m \u001b[0;34m\u001b[0m\u001b[0m\n\u001b[1;32m      3\u001b[0m \u001b[0;34m\u001b[0m\u001b[0m\n\u001b[1;32m      4\u001b[0m \u001b[0;32mfor\u001b[0m \u001b[0mindex\u001b[0m\u001b[0;34m,\u001b[0m \u001b[0mrow\u001b[0m \u001b[0;32min\u001b[0m \u001b[0mdf_st\u001b[0m\u001b[0;34m.\u001b[0m\u001b[0miterrows\u001b[0m\u001b[0;34m(\u001b[0m\u001b[0;34m)\u001b[0m\u001b[0;34m:\u001b[0m\u001b[0;34m\u001b[0m\u001b[0;34m\u001b[0m\u001b[0m\n\u001b[1;32m      5\u001b[0m     \u001b[0mlat\u001b[0m \u001b[0;34m=\u001b[0m \u001b[0mrow\u001b[0m\u001b[0;34m[\u001b[0m\u001b[0;34m'Latitude'\u001b[0m\u001b[0;34m]\u001b[0m\u001b[0;34m\u001b[0m\u001b[0;34m\u001b[0m\u001b[0m\n",
      "\u001b[0;31mNameError\u001b[0m: name 'df_st' is not defined"
     ]
    }
   ],
   "source": [
    "mapa_st = folium.Map(location=[df_st['Latitude'][0], df_st['Longitude'][0]],tiles='cartodbpositron', zoom_start=15)\n",
    "\n",
    "\n",
    "for index, row in df_st.iterrows():\n",
    "    lat = row['Latitude']\n",
    "    long = row['Longitude']\n",
    "    folium.Marker([lat, long], icon=folium.Icon(color='green')).add_to(mapa_st)\n",
    "\n",
    "mapa_st"
   ]
  },
  {
   "cell_type": "code",
   "execution_count": null,
   "metadata": {},
   "outputs": [],
   "source": [
    "#En vez de pintar en 0,0 pintar cerca de la ciudad con mayor value_counts() o pintar la media de los puntos del DataFrame\n",
    "\n",
    "def generMap(dataFrame):\n",
    "    lat = cleanData['latitude'].mean()\n",
    "    long = cleanData['longitude'].mean()\n",
    "    coordinates = list(zip(cleanData['latitude'].values, cleanData['longitude'].values))\n",
    "    mapa = folium.Map([lat,long], tiles='cartodbpositron', zoom_start=11)\n",
    "    Marker([cleanData['latitude'], cleanData['longitude']], icon=folium.Icon(color='red')).add_to(mapa)\n",
    "\n",
    "#Adding starbucks\n",
    "    for index, row in df_st.iterrows():\n",
    "        lat = row['Latitude']\n",
    "        long = row['Longitude']\n",
    "        folium.Marker([lat, long], icon=folium.Icon(color='green')).add_to(mapa)\n",
    "\n",
    "generMap(cleanData)"
   ]
  },
  {
   "cell_type": "code",
   "execution_count": null,
   "metadata": {},
   "outputs": [],
   "source": [
    "# Create a column to store closest airport on 30km radius \n",
    "# Create a column to store closest bars on 1km radius\n",
    "cleanData['airports'] = \n",
    "\n",
    "# Etiquetas\n",
    "airport\n",
    "train_station\n",
    "bar"
   ]
  },
  {
   "cell_type": "code",
   "execution_count": null,
   "metadata": {},
   "outputs": [],
   "source": [
    "# Google Maps requests\n",
    "# Error requesting location\n",
    "def requestMap(lat, long, tipo):\n",
    "    token = os.getenv('MAPS TOKEN')\n",
    "    url = 'https://maps.googleapis.com/maps/api/place/nearbysearch/json?'\n",
    "    coordinates = lat +','+ long\n",
    "    params = {'location': coordinates,\n",
    "              'type': tipo,\n",
    "              'key' : token \n",
    "    }\n",
    "    res = requests.get(url,params=params)\n",
    "    if res != 200:\n",
    "        raise ValueError('Bad Response')\n",
    "    return res.json()"
   ]
  }
 ],
 "metadata": {
  "kernelspec": {
   "display_name": "Python 3",
   "language": "python",
   "name": "python3"
  },
  "language_info": {
   "codemirror_mode": {
    "name": "ipython",
    "version": 3
   },
   "file_extension": ".py",
   "mimetype": "text/x-python",
   "name": "python",
   "nbconvert_exporter": "python",
   "pygments_lexer": "ipython3",
   "version": "3.7.5"
  }
 },
 "nbformat": 4,
 "nbformat_minor": 4
}
