{
 "cells": [
  {
   "cell_type": "code",
   "execution_count": null,
   "metadata": {},
   "outputs": [],
   "source": [
    "#Create a DataFrame with airports. Request to Google API\n",
    "\n",
    "offices['airports'] = \n",
    "\n",
    "# Etiquetas\n",
    "airport\n",
    "train_station\n",
    "bar\n",
    "\n",
    "\n",
    "# Google Maps requests\n",
    "# Error requesting location\n",
    "def requestMap(lat, long, tipo):\n",
    "    token = os.getenv('MAPS TOKEN')\n",
    "    url = 'https://maps.googleapis.com/maps/api/place/nearbysearch/json?'\n",
    "    coordinates = [lat, long]\n",
    "    params = {'location': coordinates,\n",
    "              'type': tipo,\n",
    "              'key' : token \n",
    "    }\n",
    "    res = requests.get(url,params=params)\n",
    "    if res != 200:\n",
    "        raise ValueError('Bad Response')\n",
    "    return res.json()"
   ]
  }
 ],
 "metadata": {
  "kernelspec": {
   "display_name": "Python 3",
   "language": "python",
   "name": "python3"
  },
  "language_info": {
   "codemirror_mode": {
    "name": "ipython",
    "version": 3
   },
   "file_extension": ".py",
   "mimetype": "text/x-python",
   "name": "python",
   "nbconvert_exporter": "python",
   "pygments_lexer": "ipython3",
   "version": "3.7.5"
  }
 },
 "nbformat": 4,
 "nbformat_minor": 4
}
