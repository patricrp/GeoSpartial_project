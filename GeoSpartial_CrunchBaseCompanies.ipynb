{
 "cells": [
  {
   "cell_type": "code",
   "execution_count": 85,
   "metadata": {},
   "outputs": [],
   "source": [
    "# Import modules\n",
    "from pymongo import MongoClient\n",
    "import pandas as pd\n",
    "import json as js\n",
    "import matplotlib.pyplot as plt"
   ]
  },
  {
   "cell_type": "code",
   "execution_count": 86,
   "metadata": {},
   "outputs": [],
   "source": [
    "client = MongoClient(\"mongodb://localhost/companies\")\n",
    "db = client.get_database()"
   ]
  },
  {
   "cell_type": "code",
   "execution_count": 87,
   "metadata": {},
   "outputs": [
    {
     "data": {
      "text/plain": [
       "(9297, 42)"
      ]
     },
     "execution_count": 87,
     "metadata": {},
     "output_type": "execute_result"
    }
   ],
   "source": [
    "df = pd.DataFrame(list(db[\"companies\"].find({'founded_year': {'$gte':2003}})))\n",
    "df.shape"
   ]
  },
  {
   "cell_type": "code",
   "execution_count": 88,
   "metadata": {},
   "outputs": [
    {
     "data": {
      "text/plain": [
       "(3839, 4)"
      ]
     },
     "execution_count": 88,
     "metadata": {},
     "output_type": "execute_result"
    }
   ],
   "source": [
    "# DataFrame with companies founded before 2003\n",
    "df_oldestcomp = pd.DataFrame(list(db['companies'].find({'founded_year': {'$lt': 2003}}, {\"name\":1,\"offices\":1,\"category_code\":1})))\n",
    "df_oldestcomp.shape"
   ]
  },
  {
   "cell_type": "code",
   "execution_count": 89,
   "metadata": {},
   "outputs": [],
   "source": [
    "# Total companies with declared founded year = 13.136.\n",
    "# Companies with founded year null = 5665"
   ]
  },
  {
   "cell_type": "code",
   "execution_count": 90,
   "metadata": {},
   "outputs": [
    {
     "data": {
      "text/plain": [
       "[None, 'CAD', 'EUR', 'GBP', 'JPY', 'SEK', 'USD']"
      ]
     },
     "execution_count": 90,
     "metadata": {},
     "output_type": "execute_result"
    }
   ],
   "source": [
    "# Look for different currencies on raised_currency_code for a future money exchange\n",
    "\n",
    "currency = list(db['companies'].distinct('funding_rounds.raised_currency_code'))\n",
    "currency"
   ]
  },
  {
   "cell_type": "code",
   "execution_count": 91,
   "metadata": {},
   "outputs": [],
   "source": [
    "#To filter for tech startups that raised more than $1M, first know which types of startups are in the database\n",
    "\n",
    "startups_type = list(db['companies'].distinct('category_code'))\n"
   ]
  },
  {
   "cell_type": "code",
   "execution_count": 92,
   "metadata": {},
   "outputs": [
    {
     "data": {
      "text/plain": [
       "(1468, 4)"
      ]
     },
     "execution_count": 92,
     "metadata": {},
     "output_type": "execute_result"
    }
   ],
   "source": [
    "# Data Frame with Tech Statups founded after 2002 that raised $1M on a funding round. 6977\n",
    "df = pd.DataFrame(list(db['companies'].find({'$and': [{'founded_year': {'$gte':2003}}, {'category_code': {'$in': ['advertising', 'analytics', 'consulting', 'design', 'ecommerce', 'games_video', 'hardware', 'mobile', 'nanotech', 'network_hosting', 'software', 'web']}}, {'funding_rounds.raised_amount': {'$gte': 1000000}}]}, {\"name\":1,\"offices\":1,\"category_code\":1})))\n",
    "df.shape"
   ]
  },
  {
   "cell_type": "code",
   "execution_count": 93,
   "metadata": {},
   "outputs": [],
   "source": [
    "# Create a DataFrame with Starbucks location to add to paint markers on the offices map\n",
    "df_st = pd.read_csv('input/starbucks.csv', engine='python')\n",
    "df_st = df_st[['Brand', 'Name', 'City', 'Country', 'Latitude', 'Longitude']]\n",
    "df_st = df_st.dropna(subset= ['Latitude', 'Longitude'])"
   ]
  },
  {
   "cell_type": "code",
   "execution_count": 94,
   "metadata": {},
   "outputs": [],
   "source": [
    "#Create a DataFrame with USA airports from a csv and filter it\n",
    "df_airports = pd.read_csv(\"input/airports.csv\", engine = 'python')\n",
    "df_airports = df_airports[['name', 'latitude_deg', 'longitude_deg']]"
   ]
  },
  {
   "cell_type": "code",
   "execution_count": 95,
   "metadata": {},
   "outputs": [],
   "source": [
    "# Explode offices to have each office (dictionary, part of a list) on a row\n",
    "df = df.explode('offices')\n",
    "\n",
    "# Expand offices info into different columns\n",
    "dfOffices = df[[\"offices\"]].apply(lambda r: r.offices, result_type=\"expand\", axis=1)\n",
    "\n",
    "#Concanete both DataFrames\n",
    "cleanData = pd.concat([df,dfOffices], axis=1)"
   ]
  },
  {
   "cell_type": "code",
   "execution_count": 96,
   "metadata": {},
   "outputs": [],
   "source": [
    "#Same process for DataFrame of companies founded before 2003\n",
    "df_oldestcomp = df_oldestcomp.explode('offices')\n",
    "df_oldestcompOffices = df_oldestcomp[['offices']].apply(lambda r: r.offices, result_type='expand', axis=1)\n",
    "oldestOffices = pd.concat([df_oldestcomp,df_oldestcompOffices], axis=1)"
   ]
  },
  {
   "cell_type": "code",
   "execution_count": 97,
   "metadata": {},
   "outputs": [],
   "source": [
    "# Cleaning offices DataFrame dropping unnecessary columns and null info for latitude and longitude\n",
    "cleanData = cleanData.drop(columns= ['_id', 'offices'])\n",
    "cleanData = cleanData.dropna(subset= ['latitude', 'longitude'])"
   ]
  },
  {
   "cell_type": "code",
   "execution_count": 98,
   "metadata": {},
   "outputs": [],
   "source": [
    "# Cleaning oldest offices DataFrame dropping unnecessary columns and null info for latitude and longitude\n",
    "oldestOffices = oldestOffices.drop(columns= ['_id', 'offices'])\n",
    "oldestOffices = oldestOffices.dropna(subset= ['latitude', 'longitude'])"
   ]
  },
  {
   "cell_type": "code",
   "execution_count": 67,
   "metadata": {},
   "outputs": [],
   "source": [
    "#Create a function to apply to latitude and longitude series to create a new column with a JSON 'point'\n",
    "#Why I need this column?\n",
    "def asGeoJSON(lat,lng):\n",
    "    lat = float(lat)\n",
    "    lng = float(lng)\n",
    "    return {\n",
    "        \"type\":\"Point\",\n",
    "        \"coordinates\":[lng,lat]\n",
    "    }\n",
    "        \n",
    "\n",
    "cleanData[\"location\"] = cleanData[[\"latitude\",\"longitude\"]].apply(lambda x:asGeoJSON(x.latitude,x.longitude), axis=1)\n",
    "\n",
    "oldestOffices[\"location\"] = oldestOffices[[\"latitude\",\"longitude\"]].apply(lambda x:asGeoJSON(x.latitude,x.longitude), axis=1)\n",
    "\n",
    "df_st['location'] = df_st[['Latitude', 'Longitude']].apply(lambda x:asGeoJSON(x.Latitude,x.Longitude), axis=1)\n",
    "\n",
    "df_airports['location'] = df_airports[['Latitude', 'Longitude']].apply(lambda x:asGeoJSON(x.Latitude,x.Longitude), axis=1)"
   ]
  },
  {
   "cell_type": "code",
   "execution_count": 99,
   "metadata": {},
   "outputs": [],
   "source": [
    "# Select 3 cities from the original DataFrame based on the number of value_counts of startups in the original DataFrame \n",
    "cleanData['city'].value_counts().head(3)\n",
    "\n",
    "# Cities to compare: San Francisco, New York, Mountain View\n",
    "# Filter both DataFrames where cities are previous ones.\n",
    "\n",
    "cleanData = cleanData[(cleanData['city'] == 'San Francisco') | (cleanData['city'] == 'New York') | (cleanData['city'] == 'Mountain View')]\n",
    "\n",
    "df_st = df_st[(df_st['City'] == 'San Francisco') | (df_st['City'] == 'New York') | (df_st['City'] == 'Mountain View')]\n",
    "\n",
    "oldestOffices = oldestOffices[(oldestOffices['city'] == 'San Francisco') | (oldestOffices['city'] == 'New York') | (oldestOffices['city'] == 'Mountain View')]"
   ]
  },
  {
   "cell_type": "code",
   "execution_count": 100,
   "metadata": {},
   "outputs": [],
   "source": [
    "# Exporting data for MongoDB. \n",
    "cleanData.to_json(\"output/cleanOffices.json\", orient=\"records\")\n",
    "oldestOffices.to_json(\"output/oldestOffices.json\", orient=\"records\")\n",
    "df_st.to_json(\"output/starbucks.json\", orient=\"records\")\n",
    "df_airports.to_json(\"output/airports.json\", orient=\"records\")"
   ]
  },
  {
   "cell_type": "code",
   "execution_count": 101,
   "metadata": {},
   "outputs": [
    {
     "data": {
      "text/html": [
       "<div>\n",
       "<style scoped>\n",
       "    .dataframe tbody tr th:only-of-type {\n",
       "        vertical-align: middle;\n",
       "    }\n",
       "\n",
       "    .dataframe tbody tr th {\n",
       "        vertical-align: top;\n",
       "    }\n",
       "\n",
       "    .dataframe thead th {\n",
       "        text-align: right;\n",
       "    }\n",
       "</style>\n",
       "<table border=\"1\" class=\"dataframe\">\n",
       "  <thead>\n",
       "    <tr style=\"text-align: right;\">\n",
       "      <th></th>\n",
       "      <th>Brand</th>\n",
       "      <th>Name</th>\n",
       "      <th>City</th>\n",
       "      <th>Country</th>\n",
       "      <th>Latitude</th>\n",
       "      <th>Longitude</th>\n",
       "    </tr>\n",
       "  </thead>\n",
       "  <tbody>\n",
       "    <tr>\n",
       "      <th>547</th>\n",
       "      <td>Starbucks</td>\n",
       "      <td>Washington Hgts/181st St</td>\n",
       "      <td>New York</td>\n",
       "      <td>US</td>\n",
       "      <td>40.851000</td>\n",
       "      <td>-73.938421</td>\n",
       "    </tr>\n",
       "    <tr>\n",
       "      <th>549</th>\n",
       "      <td>Starbucks</td>\n",
       "      <td>168th &amp; Broadway</td>\n",
       "      <td>New York</td>\n",
       "      <td>US</td>\n",
       "      <td>40.841350</td>\n",
       "      <td>-73.939822</td>\n",
       "    </tr>\n",
       "    <tr>\n",
       "      <th>557</th>\n",
       "      <td>Starbucks</td>\n",
       "      <td>145th &amp; Bradhurst</td>\n",
       "      <td>New York</td>\n",
       "      <td>US</td>\n",
       "      <td>40.823382</td>\n",
       "      <td>-73.942611</td>\n",
       "    </tr>\n",
       "    <tr>\n",
       "      <th>570</th>\n",
       "      <td>Starbucks</td>\n",
       "      <td>Target East River Plaza T-2380</td>\n",
       "      <td>New York</td>\n",
       "      <td>US</td>\n",
       "      <td>40.795688</td>\n",
       "      <td>-73.932552</td>\n",
       "    </tr>\n",
       "    <tr>\n",
       "      <th>571</th>\n",
       "      <td>Starbucks</td>\n",
       "      <td>125th Street and Lenox</td>\n",
       "      <td>New York</td>\n",
       "      <td>US</td>\n",
       "      <td>40.807809</td>\n",
       "      <td>-73.945108</td>\n",
       "    </tr>\n",
       "  </tbody>\n",
       "</table>\n",
       "</div>"
      ],
      "text/plain": [
       "         Brand                            Name      City Country   Latitude  \\\n",
       "547  Starbucks        Washington Hgts/181st St  New York      US  40.851000   \n",
       "549  Starbucks                168th & Broadway  New York      US  40.841350   \n",
       "557  Starbucks               145th & Bradhurst  New York      US  40.823382   \n",
       "570  Starbucks  Target East River Plaza T-2380  New York      US  40.795688   \n",
       "571  Starbucks          125th Street and Lenox  New York      US  40.807809   \n",
       "\n",
       "     Longitude  \n",
       "547 -73.938421  \n",
       "549 -73.939822  \n",
       "557 -73.942611  \n",
       "570 -73.932552  \n",
       "571 -73.945108  "
      ]
     },
     "execution_count": 101,
     "metadata": {},
     "output_type": "execute_result"
    }
   ],
   "source": [
    "df_st.head()"
   ]
  },
  {
   "cell_type": "code",
   "execution_count": null,
   "metadata": {},
   "outputs": [],
   "source": []
  },
  {
   "cell_type": "code",
   "execution_count": null,
   "metadata": {},
   "outputs": [],
   "source": []
  }
 ],
 "metadata": {
  "kernelspec": {
   "display_name": "Python 3",
   "language": "python",
   "name": "python3"
  },
  "language_info": {
   "codemirror_mode": {
    "name": "ipython",
    "version": 3
   },
   "file_extension": ".py",
   "mimetype": "text/x-python",
   "name": "python",
   "nbconvert_exporter": "python",
   "pygments_lexer": "ipython3",
   "version": "3.7.5"
  }
 },
 "nbformat": 4,
 "nbformat_minor": 4
}
